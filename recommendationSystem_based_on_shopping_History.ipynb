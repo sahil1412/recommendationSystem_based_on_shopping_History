{
 "cells": [
  {
   "cell_type": "markdown",
   "id": "55d4f5a0",
   "metadata": {},
   "source": [
    "# Importing libraries"
   ]
  },
  {
   "cell_type": "code",
   "execution_count": 1,
   "id": "e782e97e",
   "metadata": {},
   "outputs": [],
   "source": [
    "import warnings\n",
    "warnings.filterwarnings('ignore')\n",
    "\n",
    "import numpy as np\n",
    "import pandas as pd\n",
    "\n",
    "import matplotlib.pyplot as plt\n",
    "import seaborn as sns\n",
    "\n",
    "from sklearn.metrics.pairwise import cosine_similarity\n",
    "\n",
    "from sklearn.metrics import mean_squared_error\n",
    "\n",
    "from scipy.sparse.linalg import svds # for sparse matrices"
   ]
  },
  {
   "cell_type": "markdown",
   "id": "9f628bad",
   "metadata": {},
   "source": [
    "# Importing Dataset"
   ]
  },
  {
   "cell_type": "code",
   "execution_count": 2,
   "id": "e501334d",
   "metadata": {},
   "outputs": [],
   "source": [
    "#Import the data set\n",
    "df = pd.read_csv('D:/dataset/ratings_Electronics.csv', header=None) #There are no headers in the data file\n",
    "\n",
    "df.columns = ['user_id', 'prod_id', 'rating', 'timestamp'] #Adding column names\n",
    "\n",
    "df = df.drop('timestamp', axis=1) #Dropping timestamp\n",
    "\n",
    "df_copy = df.copy(deep=True) #Copying the data to another dataframe"
   ]
  },
  {
   "cell_type": "markdown",
   "id": "af0f8b0b",
   "metadata": {},
   "source": [
    "# Shape"
   ]
  },
  {
   "cell_type": "code",
   "execution_count": 3,
   "id": "91b67f14",
   "metadata": {},
   "outputs": [
    {
     "name": "stdout",
     "output_type": "stream",
     "text": [
      "No of rows =  7824482\n",
      "No of columns =  3\n"
     ]
    }
   ],
   "source": [
    "rows, columns = df.shape\n",
    "print(\"No of rows = \", rows)\n",
    "print(\"No of columns = \", columns)\n",
    "     "
   ]
  },
  {
   "cell_type": "markdown",
   "id": "69443795",
   "metadata": {},
   "source": [
    "# Datatypes information"
   ]
  },
  {
   "cell_type": "code",
   "execution_count": 4,
   "id": "9cf5a4e4",
   "metadata": {},
   "outputs": [
    {
     "name": "stdout",
     "output_type": "stream",
     "text": [
      "<class 'pandas.core.frame.DataFrame'>\n",
      "RangeIndex: 7824482 entries, 0 to 7824481\n",
      "Data columns (total 3 columns):\n",
      " #   Column   Dtype  \n",
      "---  ------   -----  \n",
      " 0   user_id  object \n",
      " 1   prod_id  object \n",
      " 2   rating   float64\n",
      "dtypes: float64(1), object(2)\n",
      "memory usage: 179.1+ MB\n"
     ]
    }
   ],
   "source": [
    "df.info()"
   ]
  },
  {
   "cell_type": "markdown",
   "id": "60c52116",
   "metadata": {},
   "source": [
    "# Missing value analysis"
   ]
  },
  {
   "cell_type": "code",
   "execution_count": 5,
   "id": "ecfabc43",
   "metadata": {},
   "outputs": [
    {
     "data": {
      "text/plain": [
       "user_id    0\n",
       "prod_id    0\n",
       "rating     0\n",
       "dtype: int64"
      ]
     },
     "execution_count": 5,
     "metadata": {},
     "output_type": "execute_result"
    }
   ],
   "source": [
    "# Find number of missing values in each column\n",
    "df.isna().sum()"
   ]
  },
  {
   "cell_type": "markdown",
   "id": "8f2a3bad",
   "metadata": {},
   "source": [
    "# Summary"
   ]
  },
  {
   "cell_type": "code",
   "execution_count": 6,
   "id": "84239210",
   "metadata": {},
   "outputs": [
    {
     "data": {
      "text/plain": [
       "count    7.824482e+06\n",
       "mean     4.012337e+00\n",
       "std      1.380910e+00\n",
       "min      1.000000e+00\n",
       "25%      3.000000e+00\n",
       "50%      5.000000e+00\n",
       "75%      5.000000e+00\n",
       "max      5.000000e+00\n",
       "Name: rating, dtype: float64"
      ]
     },
     "execution_count": 6,
     "metadata": {},
     "output_type": "execute_result"
    }
   ],
   "source": [
    "# Summary statistics of 'rating' variable\n",
    "df['rating'].describe()"
   ]
  },
  {
   "cell_type": "markdown",
   "id": "b686c011",
   "metadata": {},
   "source": [
    "# Rating distribution"
   ]
  },
  {
   "cell_type": "code",
   "execution_count": 7,
   "id": "fa4a3894",
   "metadata": {},
   "outputs": [
    {
     "data": {
      "image/png": "[encoded data removed]",
      "text/plain": [
       "<Figure size 1200x600 with 1 Axes>"
      ]
     },
     "metadata": {},
     "output_type": "display_data"
    }
   ],
   "source": [
    "#Create the plot and provide observations\n",
    "\n",
    "plt.figure(figsize = (12,6))\n",
    "df['rating'].value_counts(1).plot(kind='bar')\n",
    "plt.ylabel(\"Total No of Ratings\")\n",
    "plt.xlabel(\"Ratings\")\n",
    "plt.savefig(\"bar_graph\")\n",
    "plt.show()"
   ]
  },
  {
   "cell_type": "markdown",
   "id": "95be8db6",
   "metadata": {},
   "source": [
    "# No of unique users and items"
   ]
  },
  {
   "cell_type": "code",
   "execution_count": 8,
   "id": "5620b539",
   "metadata": {},
   "outputs": [
    {
     "name": "stdout",
     "output_type": "stream",
     "text": [
      "Number of unique USERS in Raw data =  4201696\n",
      "Number of unique ITEMS in Raw data =  476002\n"
     ]
    }
   ],
   "source": [
    "# Number of unique user id and product id in the data\n",
    "print('Number of unique USERS in Raw data = ', df['user_id'].nunique())\n",
    "print('Number of unique ITEMS in Raw data = ', df['prod_id'].nunique())"
   ]
  },
  {
   "cell_type": "markdown",
   "id": "8f528ff4",
   "metadata": {},
   "source": [
    "# Users with most no of rating"
   ]
  },
  {
   "cell_type": "code",
   "execution_count": 9,
   "id": "7c148c35",
   "metadata": {},
   "outputs": [
    {
     "data": {
      "text/plain": [
       "user_id\n",
       "A5JLAU2ARJ0BO     520\n",
       "ADLVFFE4VBT8      501\n",
       "A3OXHLG6DIBRW8    498\n",
       "A6FIAB28IS79      431\n",
       "A680RUE1FDO8B     406\n",
       "A1ODOGXEYECQQ8    380\n",
       "A36K2N527TXXJN    314\n",
       "A2AY4YUOX2N1BQ    311\n",
       "AWPODHOB4GFWL     308\n",
       "A25C2M3QF9G7OQ    296\n",
       "dtype: int64"
      ]
     },
     "execution_count": 9,
     "metadata": {},
     "output_type": "execute_result"
    }
   ],
   "source": [
    "# Top 10 users based on rating\n",
    "most_rated = df.groupby('user_id').size().sort_values(ascending=False)[:10]\n",
    "most_rated"
   ]
  },
  {
   "cell_type": "markdown",
   "id": "fc62c72b",
   "metadata": {},
   "source": [
    "# Pre-Processing\n"
   ]
  },
  {
   "cell_type": "code",
   "execution_count": 10,
   "id": "dcf541d3",
   "metadata": {},
   "outputs": [],
   "source": [
    "# Let's take a subset of the dataset (by only keeping the users who have given 50 or more ratings) to make the dataset less sparse and easy to work with.\n",
    "counts = df['user_id'].value_counts()\n",
    "df_final = df[df['user_id'].isin(counts[counts >= 50].index)]"
   ]
  },
  {
   "cell_type": "code",
   "execution_count": 11,
   "id": "ab73c4b8",
   "metadata": {},
   "outputs": [
    {
     "name": "stdout",
     "output_type": "stream",
     "text": [
      "The number of observations in the final data = 125871\n",
      "Number of unique USERS in the final data =  1540\n",
      "Number of unique PRODUCTS in the final data =  48190\n"
     ]
    }
   ],
   "source": [
    "print('The number of observations in the final data =', len(df_final))\n",
    "print('Number of unique USERS in the final data = ', df_final['user_id'].nunique())\n",
    "print('Number of unique PRODUCTS in the final data = ', df_final['prod_id'].nunique())"
   ]
  },
  {
   "cell_type": "markdown",
   "id": "ccf4b2fa",
   "metadata": {},
   "source": [
    "# Checking the density of the rating matrix"
   ]
  },
  {
   "cell_type": "code",
   "execution_count": 12,
   "id": "222f5208",
   "metadata": {},
   "outputs": [
    {
     "name": "stdout",
     "output_type": "stream",
     "text": [
      "Shape of final_ratings_matrix:  (1540, 48190)\n",
      "given_num_of_ratings =  125871\n",
      "possible_num_of_ratings =  74212600\n",
      "density: 0.17%\n"
     ]
    },
    {
     "data": {
      "text/html": [
       "<div>\n",
       "<style scoped>\n",
       "    .dataframe tbody tr th:only-of-type {\n",
       "        vertical-align: middle;\n",
       "    }\n",
       "\n",
       "    .dataframe tbody tr th {\n",
       "        vertical-align: top;\n",
       "    }\n",
       "\n",
       "    .dataframe thead th {\n",
       "        text-align: right;\n",
       "    }\n",
       "</style>\n",
       "<table border=\"1\" class=\"dataframe\">\n",
       "  <thead>\n",
       "    <tr style=\"text-align: right;\">\n",
       "      <th>prod_id</th>\n",
       "      <th>0594451647</th>\n",
       "      <th>0594481813</th>\n",
       "      <th>0970407998</th>\n",
       "      <th>0972683275</th>\n",
       "      <th>1400501466</th>\n",
       "      <th>1400501520</th>\n",
       "      <th>1400501776</th>\n",
       "      <th>1400532620</th>\n",
       "      <th>1400532655</th>\n",
       "      <th>140053271X</th>\n",
       "      <th>...</th>\n",
       "      <th>B00L5YZCCG</th>\n",
       "      <th>B00L8I6SFY</th>\n",
       "      <th>B00L8QCVL6</th>\n",
       "      <th>B00LA6T0LS</th>\n",
       "      <th>B00LBZ1Z7K</th>\n",
       "      <th>B00LED02VY</th>\n",
       "      <th>B00LGN7Y3G</th>\n",
       "      <th>B00LGQ6HL8</th>\n",
       "      <th>B00LI4ZZO8</th>\n",
       "      <th>B00LKG1MC8</th>\n",
       "    </tr>\n",
       "    <tr>\n",
       "      <th>user_id</th>\n",
       "      <th></th>\n",
       "      <th></th>\n",
       "      <th></th>\n",
       "      <th></th>\n",
       "      <th></th>\n",
       "      <th></th>\n",
       "      <th></th>\n",
       "      <th></th>\n",
       "      <th></th>\n",
       "      <th></th>\n",
       "      <th></th>\n",
       "      <th></th>\n",
       "      <th></th>\n",
       "      <th></th>\n",
       "      <th></th>\n",
       "      <th></th>\n",
       "      <th></th>\n",
       "      <th></th>\n",
       "      <th></th>\n",
       "      <th></th>\n",
       "      <th></th>\n",
       "    </tr>\n",
       "  </thead>\n",
       "  <tbody>\n",
       "    <tr>\n",
       "      <th>A100UD67AHFODS</th>\n",
       "      <td>0.0</td>\n",
       "      <td>0.0</td>\n",
       "      <td>0.0</td>\n",
       "      <td>0.0</td>\n",
       "      <td>0.0</td>\n",
       "      <td>0.0</td>\n",
       "      <td>0.0</td>\n",
       "      <td>0.0</td>\n",
       "      <td>0.0</td>\n",
       "      <td>0.0</td>\n",
       "      <td>...</td>\n",
       "      <td>0.0</td>\n",
       "      <td>0.0</td>\n",
       "      <td>0.0</td>\n",
       "      <td>0.0</td>\n",
       "      <td>0.0</td>\n",
       "      <td>0.0</td>\n",
       "      <td>0.0</td>\n",
       "      <td>0.0</td>\n",
       "      <td>0.0</td>\n",
       "      <td>0.0</td>\n",
       "    </tr>\n",
       "    <tr>\n",
       "      <th>A100WO06OQR8BQ</th>\n",
       "      <td>0.0</td>\n",
       "      <td>0.0</td>\n",
       "      <td>0.0</td>\n",
       "      <td>0.0</td>\n",
       "      <td>0.0</td>\n",
       "      <td>0.0</td>\n",
       "      <td>0.0</td>\n",
       "      <td>0.0</td>\n",
       "      <td>0.0</td>\n",
       "      <td>0.0</td>\n",
       "      <td>...</td>\n",
       "      <td>0.0</td>\n",
       "      <td>0.0</td>\n",
       "      <td>0.0</td>\n",
       "      <td>0.0</td>\n",
       "      <td>0.0</td>\n",
       "      <td>0.0</td>\n",
       "      <td>0.0</td>\n",
       "      <td>0.0</td>\n",
       "      <td>0.0</td>\n",
       "      <td>0.0</td>\n",
       "    </tr>\n",
       "    <tr>\n",
       "      <th>A105S56ODHGJEK</th>\n",
       "      <td>0.0</td>\n",
       "      <td>0.0</td>\n",
       "      <td>0.0</td>\n",
       "      <td>0.0</td>\n",
       "      <td>0.0</td>\n",
       "      <td>0.0</td>\n",
       "      <td>0.0</td>\n",
       "      <td>0.0</td>\n",
       "      <td>0.0</td>\n",
       "      <td>0.0</td>\n",
       "      <td>...</td>\n",
       "      <td>0.0</td>\n",
       "      <td>0.0</td>\n",
       "      <td>0.0</td>\n",
       "      <td>0.0</td>\n",
       "      <td>0.0</td>\n",
       "      <td>0.0</td>\n",
       "      <td>0.0</td>\n",
       "      <td>0.0</td>\n",
       "      <td>0.0</td>\n",
       "      <td>0.0</td>\n",
       "    </tr>\n",
       "    <tr>\n",
       "      <th>A105TOJ6LTVMBG</th>\n",
       "      <td>0.0</td>\n",
       "      <td>0.0</td>\n",
       "      <td>0.0</td>\n",
       "      <td>0.0</td>\n",
       "      <td>0.0</td>\n",
       "      <td>0.0</td>\n",
       "      <td>0.0</td>\n",
       "      <td>0.0</td>\n",
       "      <td>0.0</td>\n",
       "      <td>0.0</td>\n",
       "      <td>...</td>\n",
       "      <td>0.0</td>\n",
       "      <td>0.0</td>\n",
       "      <td>0.0</td>\n",
       "      <td>0.0</td>\n",
       "      <td>0.0</td>\n",
       "      <td>0.0</td>\n",
       "      <td>0.0</td>\n",
       "      <td>0.0</td>\n",
       "      <td>0.0</td>\n",
       "      <td>0.0</td>\n",
       "    </tr>\n",
       "    <tr>\n",
       "      <th>A10AFVU66A79Y1</th>\n",
       "      <td>0.0</td>\n",
       "      <td>0.0</td>\n",
       "      <td>0.0</td>\n",
       "      <td>0.0</td>\n",
       "      <td>0.0</td>\n",
       "      <td>0.0</td>\n",
       "      <td>0.0</td>\n",
       "      <td>0.0</td>\n",
       "      <td>0.0</td>\n",
       "      <td>0.0</td>\n",
       "      <td>...</td>\n",
       "      <td>0.0</td>\n",
       "      <td>0.0</td>\n",
       "      <td>0.0</td>\n",
       "      <td>0.0</td>\n",
       "      <td>0.0</td>\n",
       "      <td>0.0</td>\n",
       "      <td>0.0</td>\n",
       "      <td>0.0</td>\n",
       "      <td>0.0</td>\n",
       "      <td>0.0</td>\n",
       "    </tr>\n",
       "  </tbody>\n",
       "</table>\n",
       "<p>5 rows × 48190 columns</p>\n",
       "</div>"
      ],
      "text/plain": [
       "prod_id         0594451647  0594481813  0970407998  0972683275  1400501466  \\\n",
       "user_id                                                                      \n",
       "A100UD67AHFODS         0.0         0.0         0.0         0.0         0.0   \n",
       "A100WO06OQR8BQ         0.0         0.0         0.0         0.0         0.0   \n",
       "A105S56ODHGJEK         0.0         0.0         0.0         0.0         0.0   \n",
       "A105TOJ6LTVMBG         0.0         0.0         0.0         0.0         0.0   \n",
       "A10AFVU66A79Y1         0.0         0.0         0.0         0.0         0.0   \n",
       "\n",
       "prod_id         1400501520  1400501776  1400532620  1400532655  140053271X  \\\n",
       "user_id                                                                      \n",
       "A100UD67AHFODS         0.0         0.0         0.0         0.0         0.0   \n",
       "A100WO06OQR8BQ         0.0         0.0         0.0         0.0         0.0   \n",
       "A105S56ODHGJEK         0.0         0.0         0.0         0.0         0.0   \n",
       "A105TOJ6LTVMBG         0.0         0.0         0.0         0.0         0.0   \n",
       "A10AFVU66A79Y1         0.0         0.0         0.0         0.0         0.0   \n",
       "\n",
       "prod_id         ...  B00L5YZCCG  B00L8I6SFY  B00L8QCVL6  B00LA6T0LS  \\\n",
       "user_id         ...                                                   \n",
       "A100UD67AHFODS  ...         0.0         0.0         0.0         0.0   \n",
       "A100WO06OQR8BQ  ...         0.0         0.0         0.0         0.0   \n",
       "A105S56ODHGJEK  ...         0.0         0.0         0.0         0.0   \n",
       "A105TOJ6LTVMBG  ...         0.0         0.0         0.0         0.0   \n",
       "A10AFVU66A79Y1  ...         0.0         0.0         0.0         0.0   \n",
       "\n",
       "prod_id         B00LBZ1Z7K  B00LED02VY  B00LGN7Y3G  B00LGQ6HL8  B00LI4ZZO8  \\\n",
       "user_id                                                                      \n",
       "A100UD67AHFODS         0.0         0.0         0.0         0.0         0.0   \n",
       "A100WO06OQR8BQ         0.0         0.0         0.0         0.0         0.0   \n",
       "A105S56ODHGJEK         0.0         0.0         0.0         0.0         0.0   \n",
       "A105TOJ6LTVMBG         0.0         0.0         0.0         0.0         0.0   \n",
       "A10AFVU66A79Y1         0.0         0.0         0.0         0.0         0.0   \n",
       "\n",
       "prod_id         B00LKG1MC8  \n",
       "user_id                     \n",
       "A100UD67AHFODS         0.0  \n",
       "A100WO06OQR8BQ         0.0  \n",
       "A105S56ODHGJEK         0.0  \n",
       "A105TOJ6LTVMBG         0.0  \n",
       "A10AFVU66A79Y1         0.0  \n",
       "\n",
       "[5 rows x 48190 columns]"
      ]
     },
     "execution_count": 12,
     "metadata": {},
     "output_type": "execute_result"
    }
   ],
   "source": [
    "#Creating the interaction matrix of products and users based on ratings and replacing NaN value with 0\n",
    "final_ratings_matrix = df_final.pivot(index = 'user_id', columns ='prod_id', values = 'rating').fillna(0)\n",
    "print('Shape of final_ratings_matrix: ', final_ratings_matrix.shape)\n",
    "\n",
    "#Finding the number of non-zero entries in the interaction matrix \n",
    "given_num_of_ratings = np.count_nonzero(final_ratings_matrix)\n",
    "print('given_num_of_ratings = ', given_num_of_ratings)\n",
    "\n",
    "#Finding the possible number of ratings as per the number of users and products\n",
    "possible_num_of_ratings = final_ratings_matrix.shape[0] * final_ratings_matrix.shape[1]\n",
    "print('possible_num_of_ratings = ', possible_num_of_ratings)\n",
    "\n",
    "#Density of ratings\n",
    "density = (given_num_of_ratings/possible_num_of_ratings)\n",
    "density *= 100\n",
    "print ('density: {:4.2f}%'.format(density))\n",
    "\n",
    "final_ratings_matrix.head()"
   ]
  },
  {
   "cell_type": "markdown",
   "id": "d62cde10",
   "metadata": {},
   "source": [
    "# Rank Based Recommendation System"
   ]
  },
  {
   "cell_type": "code",
   "execution_count": 13,
   "id": "45410f59",
   "metadata": {},
   "outputs": [
    {
     "data": {
      "text/html": [
       "<div>\n",
       "<style scoped>\n",
       "    .dataframe tbody tr th:only-of-type {\n",
       "        vertical-align: middle;\n",
       "    }\n",
       "\n",
       "    .dataframe tbody tr th {\n",
       "        vertical-align: top;\n",
       "    }\n",
       "\n",
       "    .dataframe thead th {\n",
       "        text-align: right;\n",
       "    }\n",
       "</style>\n",
       "<table border=\"1\" class=\"dataframe\">\n",
       "  <thead>\n",
       "    <tr style=\"text-align: right;\">\n",
       "      <th></th>\n",
       "      <th>avg_rating</th>\n",
       "      <th>rating_count</th>\n",
       "    </tr>\n",
       "    <tr>\n",
       "      <th>prod_id</th>\n",
       "      <th></th>\n",
       "      <th></th>\n",
       "    </tr>\n",
       "  </thead>\n",
       "  <tbody>\n",
       "    <tr>\n",
       "      <th>0594451647</th>\n",
       "      <td>5.0</td>\n",
       "      <td>1</td>\n",
       "    </tr>\n",
       "    <tr>\n",
       "      <th>B003RRY9RS</th>\n",
       "      <td>5.0</td>\n",
       "      <td>1</td>\n",
       "    </tr>\n",
       "    <tr>\n",
       "      <th>B003RR95Q8</th>\n",
       "      <td>5.0</td>\n",
       "      <td>1</td>\n",
       "    </tr>\n",
       "    <tr>\n",
       "      <th>B003RIPMZU</th>\n",
       "      <td>5.0</td>\n",
       "      <td>1</td>\n",
       "    </tr>\n",
       "    <tr>\n",
       "      <th>B003RFRNYQ</th>\n",
       "      <td>5.0</td>\n",
       "      <td>2</td>\n",
       "    </tr>\n",
       "  </tbody>\n",
       "</table>\n",
       "</div>"
      ],
      "text/plain": [
       "            avg_rating  rating_count\n",
       "prod_id                             \n",
       "0594451647         5.0             1\n",
       "B003RRY9RS         5.0             1\n",
       "B003RR95Q8         5.0             1\n",
       "B003RIPMZU         5.0             1\n",
       "B003RFRNYQ         5.0             2"
      ]
     },
     "execution_count": 13,
     "metadata": {},
     "output_type": "execute_result"
    }
   ],
   "source": [
    "#Calculate the average rating for each product \n",
    "average_rating = df_final.groupby('prod_id').mean()['rating']\n",
    "\n",
    "#Calculate the count of ratings for each product\n",
    "count_rating = df_final.groupby('prod_id').count()['rating']\n",
    "\n",
    "#Create a dataframe with calculated average and count of ratings\n",
    "final_rating = pd.DataFrame({'avg_rating':average_rating, 'rating_count':count_rating})\n",
    "\n",
    "#Sort the dataframe by average of ratings\n",
    "final_rating = final_rating.sort_values(by='avg_rating',ascending=False)\n",
    "\n",
    "final_rating.head()"
   ]
  },
  {
   "cell_type": "code",
   "execution_count": 15,
   "id": "c909bc1a",
   "metadata": {},
   "outputs": [],
   "source": [
    "#defining a function to get the top n products based on highest average rating and minimum interactions\n",
    "def top_n_products(final_rating, n, min_interaction):\n",
    "    \n",
    "    #Finding products with minimum number of interactions\n",
    "    recommendations = final_rating[final_rating['rating_count']>min_interaction]\n",
    "    \n",
    "    #Sorting values w.r.t average rating \n",
    "    recommendations = recommendations.sort_values('avg_rating',ascending=False)\n",
    "    \n",
    "    return recommendations.index[:n]"
   ]
  },
  {
   "cell_type": "markdown",
   "id": "6e07378d",
   "metadata": {},
   "source": [
    "# Recommending top 5 products with 50 minimum interactions based on popularity"
   ]
  },
  {
   "cell_type": "code",
   "execution_count": 16,
   "id": "4829d935",
   "metadata": {},
   "outputs": [
    {
     "data": {
      "text/plain": [
       "['B001TH7GUU', 'B003ES5ZUU', 'B0019EHU8G', 'B006W8U2MU', 'B000QUUFRW']"
      ]
     },
     "execution_count": 16,
     "metadata": {},
     "output_type": "execute_result"
    }
   ],
   "source": [
    "list(top_n_products(final_rating, 5, 50))"
   ]
  },
  {
   "cell_type": "code",
   "execution_count": 17,
   "id": "556e4770",
   "metadata": {},
   "outputs": [],
   "source": [
    "# Recommending top 5 products with 100 minimum interactions based on popularity"
   ]
  },
  {
   "cell_type": "code",
   "execution_count": 18,
   "id": "1033be23",
   "metadata": {},
   "outputs": [
    {
     "data": {
      "text/plain": [
       "['B003ES5ZUU', 'B000N99BBC', 'B007WTAJTO', 'B002V88HFE', 'B004CLYEDC']"
      ]
     },
     "execution_count": 18,
     "metadata": {},
     "output_type": "execute_result"
    }
   ],
   "source": [
    "list(top_n_products(final_rating, 5, 100))"
   ]
  },
  {
   "cell_type": "markdown",
   "id": "5b69b49f",
   "metadata": {},
   "source": [
    "# Collaborative Filtering based Recommendation System\n",
    "# User based collaborative filtering"
   ]
  },
  {
   "cell_type": "code",
   "execution_count": 19,
   "id": "0695319a",
   "metadata": {},
   "outputs": [
    {
     "data": {
      "text/html": [
       "<div>\n",
       "<style scoped>\n",
       "    .dataframe tbody tr th:only-of-type {\n",
       "        vertical-align: middle;\n",
       "    }\n",
       "\n",
       "    .dataframe tbody tr th {\n",
       "        vertical-align: top;\n",
       "    }\n",
       "\n",
       "    .dataframe thead th {\n",
       "        text-align: right;\n",
       "    }\n",
       "</style>\n",
       "<table border=\"1\" class=\"dataframe\">\n",
       "  <thead>\n",
       "    <tr style=\"text-align: right;\">\n",
       "      <th>prod_id</th>\n",
       "      <th>0594451647</th>\n",
       "      <th>0594481813</th>\n",
       "      <th>0970407998</th>\n",
       "      <th>0972683275</th>\n",
       "      <th>1400501466</th>\n",
       "      <th>1400501520</th>\n",
       "      <th>1400501776</th>\n",
       "      <th>1400532620</th>\n",
       "      <th>1400532655</th>\n",
       "      <th>140053271X</th>\n",
       "      <th>...</th>\n",
       "      <th>B00L5YZCCG</th>\n",
       "      <th>B00L8I6SFY</th>\n",
       "      <th>B00L8QCVL6</th>\n",
       "      <th>B00LA6T0LS</th>\n",
       "      <th>B00LBZ1Z7K</th>\n",
       "      <th>B00LED02VY</th>\n",
       "      <th>B00LGN7Y3G</th>\n",
       "      <th>B00LGQ6HL8</th>\n",
       "      <th>B00LI4ZZO8</th>\n",
       "      <th>B00LKG1MC8</th>\n",
       "    </tr>\n",
       "    <tr>\n",
       "      <th>user_id</th>\n",
       "      <th></th>\n",
       "      <th></th>\n",
       "      <th></th>\n",
       "      <th></th>\n",
       "      <th></th>\n",
       "      <th></th>\n",
       "      <th></th>\n",
       "      <th></th>\n",
       "      <th></th>\n",
       "      <th></th>\n",
       "      <th></th>\n",
       "      <th></th>\n",
       "      <th></th>\n",
       "      <th></th>\n",
       "      <th></th>\n",
       "      <th></th>\n",
       "      <th></th>\n",
       "      <th></th>\n",
       "      <th></th>\n",
       "      <th></th>\n",
       "      <th></th>\n",
       "    </tr>\n",
       "  </thead>\n",
       "  <tbody>\n",
       "    <tr>\n",
       "      <th>A100UD67AHFODS</th>\n",
       "      <td>0.0</td>\n",
       "      <td>0.0</td>\n",
       "      <td>0.0</td>\n",
       "      <td>0.0</td>\n",
       "      <td>0.0</td>\n",
       "      <td>0.0</td>\n",
       "      <td>0.0</td>\n",
       "      <td>0.0</td>\n",
       "      <td>0.0</td>\n",
       "      <td>0.0</td>\n",
       "      <td>...</td>\n",
       "      <td>0.0</td>\n",
       "      <td>0.0</td>\n",
       "      <td>0.0</td>\n",
       "      <td>0.0</td>\n",
       "      <td>0.0</td>\n",
       "      <td>0.0</td>\n",
       "      <td>0.0</td>\n",
       "      <td>0.0</td>\n",
       "      <td>0.0</td>\n",
       "      <td>0.0</td>\n",
       "    </tr>\n",
       "    <tr>\n",
       "      <th>A100WO06OQR8BQ</th>\n",
       "      <td>0.0</td>\n",
       "      <td>0.0</td>\n",
       "      <td>0.0</td>\n",
       "      <td>0.0</td>\n",
       "      <td>0.0</td>\n",
       "      <td>0.0</td>\n",
       "      <td>0.0</td>\n",
       "      <td>0.0</td>\n",
       "      <td>0.0</td>\n",
       "      <td>0.0</td>\n",
       "      <td>...</td>\n",
       "      <td>0.0</td>\n",
       "      <td>0.0</td>\n",
       "      <td>0.0</td>\n",
       "      <td>0.0</td>\n",
       "      <td>0.0</td>\n",
       "      <td>0.0</td>\n",
       "      <td>0.0</td>\n",
       "      <td>0.0</td>\n",
       "      <td>0.0</td>\n",
       "      <td>0.0</td>\n",
       "    </tr>\n",
       "    <tr>\n",
       "      <th>A105S56ODHGJEK</th>\n",
       "      <td>0.0</td>\n",
       "      <td>0.0</td>\n",
       "      <td>0.0</td>\n",
       "      <td>0.0</td>\n",
       "      <td>0.0</td>\n",
       "      <td>0.0</td>\n",
       "      <td>0.0</td>\n",
       "      <td>0.0</td>\n",
       "      <td>0.0</td>\n",
       "      <td>0.0</td>\n",
       "      <td>...</td>\n",
       "      <td>0.0</td>\n",
       "      <td>0.0</td>\n",
       "      <td>0.0</td>\n",
       "      <td>0.0</td>\n",
       "      <td>0.0</td>\n",
       "      <td>0.0</td>\n",
       "      <td>0.0</td>\n",
       "      <td>0.0</td>\n",
       "      <td>0.0</td>\n",
       "      <td>0.0</td>\n",
       "    </tr>\n",
       "    <tr>\n",
       "      <th>A105TOJ6LTVMBG</th>\n",
       "      <td>0.0</td>\n",
       "      <td>0.0</td>\n",
       "      <td>0.0</td>\n",
       "      <td>0.0</td>\n",
       "      <td>0.0</td>\n",
       "      <td>0.0</td>\n",
       "      <td>0.0</td>\n",
       "      <td>0.0</td>\n",
       "      <td>0.0</td>\n",
       "      <td>0.0</td>\n",
       "      <td>...</td>\n",
       "      <td>0.0</td>\n",
       "      <td>0.0</td>\n",
       "      <td>0.0</td>\n",
       "      <td>0.0</td>\n",
       "      <td>0.0</td>\n",
       "      <td>0.0</td>\n",
       "      <td>0.0</td>\n",
       "      <td>0.0</td>\n",
       "      <td>0.0</td>\n",
       "      <td>0.0</td>\n",
       "    </tr>\n",
       "    <tr>\n",
       "      <th>A10AFVU66A79Y1</th>\n",
       "      <td>0.0</td>\n",
       "      <td>0.0</td>\n",
       "      <td>0.0</td>\n",
       "      <td>0.0</td>\n",
       "      <td>0.0</td>\n",
       "      <td>0.0</td>\n",
       "      <td>0.0</td>\n",
       "      <td>0.0</td>\n",
       "      <td>0.0</td>\n",
       "      <td>0.0</td>\n",
       "      <td>...</td>\n",
       "      <td>0.0</td>\n",
       "      <td>0.0</td>\n",
       "      <td>0.0</td>\n",
       "      <td>0.0</td>\n",
       "      <td>0.0</td>\n",
       "      <td>0.0</td>\n",
       "      <td>0.0</td>\n",
       "      <td>0.0</td>\n",
       "      <td>0.0</td>\n",
       "      <td>0.0</td>\n",
       "    </tr>\n",
       "  </tbody>\n",
       "</table>\n",
       "<p>5 rows × 48190 columns</p>\n",
       "</div>"
      ],
      "text/plain": [
       "prod_id         0594451647  0594481813  0970407998  0972683275  1400501466  \\\n",
       "user_id                                                                      \n",
       "A100UD67AHFODS         0.0         0.0         0.0         0.0         0.0   \n",
       "A100WO06OQR8BQ         0.0         0.0         0.0         0.0         0.0   \n",
       "A105S56ODHGJEK         0.0         0.0         0.0         0.0         0.0   \n",
       "A105TOJ6LTVMBG         0.0         0.0         0.0         0.0         0.0   \n",
       "A10AFVU66A79Y1         0.0         0.0         0.0         0.0         0.0   \n",
       "\n",
       "prod_id         1400501520  1400501776  1400532620  1400532655  140053271X  \\\n",
       "user_id                                                                      \n",
       "A100UD67AHFODS         0.0         0.0         0.0         0.0         0.0   \n",
       "A100WO06OQR8BQ         0.0         0.0         0.0         0.0         0.0   \n",
       "A105S56ODHGJEK         0.0         0.0         0.0         0.0         0.0   \n",
       "A105TOJ6LTVMBG         0.0         0.0         0.0         0.0         0.0   \n",
       "A10AFVU66A79Y1         0.0         0.0         0.0         0.0         0.0   \n",
       "\n",
       "prod_id         ...  B00L5YZCCG  B00L8I6SFY  B00L8QCVL6  B00LA6T0LS  \\\n",
       "user_id         ...                                                   \n",
       "A100UD67AHFODS  ...         0.0         0.0         0.0         0.0   \n",
       "A100WO06OQR8BQ  ...         0.0         0.0         0.0         0.0   \n",
       "A105S56ODHGJEK  ...         0.0         0.0         0.0         0.0   \n",
       "A105TOJ6LTVMBG  ...         0.0         0.0         0.0         0.0   \n",
       "A10AFVU66A79Y1  ...         0.0         0.0         0.0         0.0   \n",
       "\n",
       "prod_id         B00LBZ1Z7K  B00LED02VY  B00LGN7Y3G  B00LGQ6HL8  B00LI4ZZO8  \\\n",
       "user_id                                                                      \n",
       "A100UD67AHFODS         0.0         0.0         0.0         0.0         0.0   \n",
       "A100WO06OQR8BQ         0.0         0.0         0.0         0.0         0.0   \n",
       "A105S56ODHGJEK         0.0         0.0         0.0         0.0         0.0   \n",
       "A105TOJ6LTVMBG         0.0         0.0         0.0         0.0         0.0   \n",
       "A10AFVU66A79Y1         0.0         0.0         0.0         0.0         0.0   \n",
       "\n",
       "prod_id         B00LKG1MC8  \n",
       "user_id                     \n",
       "A100UD67AHFODS         0.0  \n",
       "A100WO06OQR8BQ         0.0  \n",
       "A105S56ODHGJEK         0.0  \n",
       "A105TOJ6LTVMBG         0.0  \n",
       "A10AFVU66A79Y1         0.0  \n",
       "\n",
       "[5 rows x 48190 columns]"
      ]
     },
     "execution_count": 19,
     "metadata": {},
     "output_type": "execute_result"
    }
   ],
   "source": [
    "final_ratings_matrix.head()"
   ]
  },
  {
   "cell_type": "code",
   "execution_count": 20,
   "id": "0304a5b2",
   "metadata": {},
   "outputs": [
    {
     "data": {
      "text/html": [
       "<div>\n",
       "<style scoped>\n",
       "    .dataframe tbody tr th:only-of-type {\n",
       "        vertical-align: middle;\n",
       "    }\n",
       "\n",
       "    .dataframe tbody tr th {\n",
       "        vertical-align: top;\n",
       "    }\n",
       "\n",
       "    .dataframe thead th {\n",
       "        text-align: right;\n",
       "    }\n",
       "</style>\n",
       "<table border=\"1\" class=\"dataframe\">\n",
       "  <thead>\n",
       "    <tr style=\"text-align: right;\">\n",
       "      <th>prod_id</th>\n",
       "      <th>0594451647</th>\n",
       "      <th>0594481813</th>\n",
       "      <th>0970407998</th>\n",
       "      <th>0972683275</th>\n",
       "      <th>1400501466</th>\n",
       "      <th>1400501520</th>\n",
       "      <th>1400501776</th>\n",
       "      <th>1400532620</th>\n",
       "      <th>1400532655</th>\n",
       "      <th>140053271X</th>\n",
       "      <th>...</th>\n",
       "      <th>B00L5YZCCG</th>\n",
       "      <th>B00L8I6SFY</th>\n",
       "      <th>B00L8QCVL6</th>\n",
       "      <th>B00LA6T0LS</th>\n",
       "      <th>B00LBZ1Z7K</th>\n",
       "      <th>B00LED02VY</th>\n",
       "      <th>B00LGN7Y3G</th>\n",
       "      <th>B00LGQ6HL8</th>\n",
       "      <th>B00LI4ZZO8</th>\n",
       "      <th>B00LKG1MC8</th>\n",
       "    </tr>\n",
       "    <tr>\n",
       "      <th>user_index</th>\n",
       "      <th></th>\n",
       "      <th></th>\n",
       "      <th></th>\n",
       "      <th></th>\n",
       "      <th></th>\n",
       "      <th></th>\n",
       "      <th></th>\n",
       "      <th></th>\n",
       "      <th></th>\n",
       "      <th></th>\n",
       "      <th></th>\n",
       "      <th></th>\n",
       "      <th></th>\n",
       "      <th></th>\n",
       "      <th></th>\n",
       "      <th></th>\n",
       "      <th></th>\n",
       "      <th></th>\n",
       "      <th></th>\n",
       "      <th></th>\n",
       "      <th></th>\n",
       "    </tr>\n",
       "  </thead>\n",
       "  <tbody>\n",
       "    <tr>\n",
       "      <th>0</th>\n",
       "      <td>0.0</td>\n",
       "      <td>0.0</td>\n",
       "      <td>0.0</td>\n",
       "      <td>0.0</td>\n",
       "      <td>0.0</td>\n",
       "      <td>0.0</td>\n",
       "      <td>0.0</td>\n",
       "      <td>0.0</td>\n",
       "      <td>0.0</td>\n",
       "      <td>0.0</td>\n",
       "      <td>...</td>\n",
       "      <td>0.0</td>\n",
       "      <td>0.0</td>\n",
       "      <td>0.0</td>\n",
       "      <td>0.0</td>\n",
       "      <td>0.0</td>\n",
       "      <td>0.0</td>\n",
       "      <td>0.0</td>\n",
       "      <td>0.0</td>\n",
       "      <td>0.0</td>\n",
       "      <td>0.0</td>\n",
       "    </tr>\n",
       "    <tr>\n",
       "      <th>1</th>\n",
       "      <td>0.0</td>\n",
       "      <td>0.0</td>\n",
       "      <td>0.0</td>\n",
       "      <td>0.0</td>\n",
       "      <td>0.0</td>\n",
       "      <td>0.0</td>\n",
       "      <td>0.0</td>\n",
       "      <td>0.0</td>\n",
       "      <td>0.0</td>\n",
       "      <td>0.0</td>\n",
       "      <td>...</td>\n",
       "      <td>0.0</td>\n",
       "      <td>0.0</td>\n",
       "      <td>0.0</td>\n",
       "      <td>0.0</td>\n",
       "      <td>0.0</td>\n",
       "      <td>0.0</td>\n",
       "      <td>0.0</td>\n",
       "      <td>0.0</td>\n",
       "      <td>0.0</td>\n",
       "      <td>0.0</td>\n",
       "    </tr>\n",
       "    <tr>\n",
       "      <th>2</th>\n",
       "      <td>0.0</td>\n",
       "      <td>0.0</td>\n",
       "      <td>0.0</td>\n",
       "      <td>0.0</td>\n",
       "      <td>0.0</td>\n",
       "      <td>0.0</td>\n",
       "      <td>0.0</td>\n",
       "      <td>0.0</td>\n",
       "      <td>0.0</td>\n",
       "      <td>0.0</td>\n",
       "      <td>...</td>\n",
       "      <td>0.0</td>\n",
       "      <td>0.0</td>\n",
       "      <td>0.0</td>\n",
       "      <td>0.0</td>\n",
       "      <td>0.0</td>\n",
       "      <td>0.0</td>\n",
       "      <td>0.0</td>\n",
       "      <td>0.0</td>\n",
       "      <td>0.0</td>\n",
       "      <td>0.0</td>\n",
       "    </tr>\n",
       "    <tr>\n",
       "      <th>3</th>\n",
       "      <td>0.0</td>\n",
       "      <td>0.0</td>\n",
       "      <td>0.0</td>\n",
       "      <td>0.0</td>\n",
       "      <td>0.0</td>\n",
       "      <td>0.0</td>\n",
       "      <td>0.0</td>\n",
       "      <td>0.0</td>\n",
       "      <td>0.0</td>\n",
       "      <td>0.0</td>\n",
       "      <td>...</td>\n",
       "      <td>0.0</td>\n",
       "      <td>0.0</td>\n",
       "      <td>0.0</td>\n",
       "      <td>0.0</td>\n",
       "      <td>0.0</td>\n",
       "      <td>0.0</td>\n",
       "      <td>0.0</td>\n",
       "      <td>0.0</td>\n",
       "      <td>0.0</td>\n",
       "      <td>0.0</td>\n",
       "    </tr>\n",
       "    <tr>\n",
       "      <th>4</th>\n",
       "      <td>0.0</td>\n",
       "      <td>0.0</td>\n",
       "      <td>0.0</td>\n",
       "      <td>0.0</td>\n",
       "      <td>0.0</td>\n",
       "      <td>0.0</td>\n",
       "      <td>0.0</td>\n",
       "      <td>0.0</td>\n",
       "      <td>0.0</td>\n",
       "      <td>0.0</td>\n",
       "      <td>...</td>\n",
       "      <td>0.0</td>\n",
       "      <td>0.0</td>\n",
       "      <td>0.0</td>\n",
       "      <td>0.0</td>\n",
       "      <td>0.0</td>\n",
       "      <td>0.0</td>\n",
       "      <td>0.0</td>\n",
       "      <td>0.0</td>\n",
       "      <td>0.0</td>\n",
       "      <td>0.0</td>\n",
       "    </tr>\n",
       "  </tbody>\n",
       "</table>\n",
       "<p>5 rows × 48190 columns</p>\n",
       "</div>"
      ],
      "text/plain": [
       "prod_id     0594451647  0594481813  0970407998  0972683275  1400501466  \\\n",
       "user_index                                                               \n",
       "0                  0.0         0.0         0.0         0.0         0.0   \n",
       "1                  0.0         0.0         0.0         0.0         0.0   \n",
       "2                  0.0         0.0         0.0         0.0         0.0   \n",
       "3                  0.0         0.0         0.0         0.0         0.0   \n",
       "4                  0.0         0.0         0.0         0.0         0.0   \n",
       "\n",
       "prod_id     1400501520  1400501776  1400532620  1400532655  140053271X  ...  \\\n",
       "user_index                                                              ...   \n",
       "0                  0.0         0.0         0.0         0.0         0.0  ...   \n",
       "1                  0.0         0.0         0.0         0.0         0.0  ...   \n",
       "2                  0.0         0.0         0.0         0.0         0.0  ...   \n",
       "3                  0.0         0.0         0.0         0.0         0.0  ...   \n",
       "4                  0.0         0.0         0.0         0.0         0.0  ...   \n",
       "\n",
       "prod_id     B00L5YZCCG  B00L8I6SFY  B00L8QCVL6  B00LA6T0LS  B00LBZ1Z7K  \\\n",
       "user_index                                                               \n",
       "0                  0.0         0.0         0.0         0.0         0.0   \n",
       "1                  0.0         0.0         0.0         0.0         0.0   \n",
       "2                  0.0         0.0         0.0         0.0         0.0   \n",
       "3                  0.0         0.0         0.0         0.0         0.0   \n",
       "4                  0.0         0.0         0.0         0.0         0.0   \n",
       "\n",
       "prod_id     B00LED02VY  B00LGN7Y3G  B00LGQ6HL8  B00LI4ZZO8  B00LKG1MC8  \n",
       "user_index                                                              \n",
       "0                  0.0         0.0         0.0         0.0         0.0  \n",
       "1                  0.0         0.0         0.0         0.0         0.0  \n",
       "2                  0.0         0.0         0.0         0.0         0.0  \n",
       "3                  0.0         0.0         0.0         0.0         0.0  \n",
       "4                  0.0         0.0         0.0         0.0         0.0  \n",
       "\n",
       "[5 rows x 48190 columns]"
      ]
     },
     "execution_count": 20,
     "metadata": {},
     "output_type": "execute_result"
    }
   ],
   "source": [
    "final_ratings_matrix['user_index'] = np.arange(0, final_ratings_matrix.shape[0])\n",
    "final_ratings_matrix.set_index(['user_index'], inplace=True)\n",
    "\n",
    "# Actual ratings given by users\n",
    "final_ratings_matrix.head()"
   ]
  },
  {
   "cell_type": "code",
   "execution_count": 21,
   "id": "5fb554c6",
   "metadata": {},
   "outputs": [],
   "source": [
    "# Function to find Similar users and their similarity scores"
   ]
  },
  {
   "cell_type": "code",
   "execution_count": 22,
   "id": "e8aa0bc4",
   "metadata": {},
   "outputs": [],
   "source": [
    "# defining a function to get similar users\n",
    "def similar_users(user_index, interactions_matrix):\n",
    "    similarity = []\n",
    "    for user in range(0, interactions_matrix.shape[0]): #  .shape[0] gives number of rows\n",
    "        \n",
    "        #finding cosine similarity between the user_id and each user\n",
    "        sim = cosine_similarity([interactions_matrix.loc[user_index]], [interactions_matrix.loc[user]])\n",
    "        \n",
    "        #Appending the user and the corresponding similarity score with user_id as a tuple\n",
    "        similarity.append((user,sim))\n",
    "        \n",
    "    similarity.sort(key=lambda x: x[1], reverse=True)\n",
    "    most_similar_users = [tup[0] for tup in similarity] #Extract the user from each tuple in the sorted list\n",
    "    similarity_score = [tup[1] for tup in similarity] ##Extracting the similarity score from each tuple in the sorted list\n",
    "   \n",
    "    #Remove the original user and its similarity score and keep only other similar users \n",
    "    most_similar_users.remove(user_index)\n",
    "    similarity_score.remove(similarity_score[0])\n",
    "       \n",
    "    return most_similar_users, similarity_score"
   ]
  },
  {
   "cell_type": "code",
   "execution_count": 23,
   "id": "a43d0da6",
   "metadata": {},
   "outputs": [],
   "source": [
    "# Finding out top 10 similar users to the user index 3 and their similarity score"
   ]
  },
  {
   "cell_type": "code",
   "execution_count": 24,
   "id": "7a09f1da",
   "metadata": {},
   "outputs": [
    {
     "data": {
      "text/plain": [
       "[320, 12, 793, 261, 156, 1493, 1250, 567, 753, 1360]"
      ]
     },
     "execution_count": 24,
     "metadata": {},
     "output_type": "execute_result"
    }
   ],
   "source": [
    "similar = similar_users(3,final_ratings_matrix)[0][0:10]\n",
    "similar"
   ]
  },
  {
   "cell_type": "code",
   "execution_count": 28,
   "id": "bad41b7f",
   "metadata": {},
   "outputs": [
    {
     "data": {
      "text/plain": [
       "[array([[0.05662371]]),\n",
       " array([[0.05549645]]),\n",
       " array([[0.05098326]]),\n",
       " array([[0.05024185]]),\n",
       " array([[0.05003874]]),\n",
       " array([[0.04930111]]),\n",
       " array([[0.04889354]]),\n",
       " array([[0.04672744]]),\n",
       " array([[0.04637283]]),\n",
       " array([[0.04492668]])]"
      ]
     },
     "execution_count": 28,
     "metadata": {},
     "output_type": "execute_result"
    }
   ],
   "source": [
    "#Print the similarity score\n",
    "similar_users(3,final_ratings_matrix)[1][0:10]"
   ]
  },
  {
   "cell_type": "code",
   "execution_count": 40,
   "id": "56ffe10f",
   "metadata": {},
   "outputs": [],
   "source": [
    "# Finding out top 10 similar users to the user index 1521 and their similarity score"
   ]
  },
  {
   "cell_type": "code",
   "execution_count": 31,
   "id": "a79c4a80",
   "metadata": {},
   "outputs": [
    {
     "data": {
      "text/plain": [
       "[991, 1065, 1012, 1402, 1371, 1278, 1518, 692, 785, 161]"
      ]
     },
     "execution_count": 31,
     "metadata": {},
     "output_type": "execute_result"
    }
   ],
   "source": [
    "similar = similar_users(1521, final_ratings_matrix)[0][0:10]\n",
    "similar"
   ]
  },
  {
   "cell_type": "code",
   "execution_count": 32,
   "id": "dfa42f9a",
   "metadata": {},
   "outputs": [
    {
     "data": {
      "text/plain": [
       "[array([[0.10889304]]),\n",
       " array([[0.10538068]]),\n",
       " array([[0.1026758]]),\n",
       " array([[0.09418291]]),\n",
       " array([[0.09149062]]),\n",
       " array([[0.09135361]]),\n",
       " array([[0.09028898]]),\n",
       " array([[0.08735684]]),\n",
       " array([[0.08673386]]),\n",
       " array([[0.08478815]])]"
      ]
     },
     "execution_count": 32,
     "metadata": {},
     "output_type": "execute_result"
    }
   ],
   "source": [
    "#Print the similarity score\n",
    "similar_users(1521,final_ratings_matrix)[1][0:10]"
   ]
  },
  {
   "cell_type": "code",
   "execution_count": 43,
   "id": "67c401ff",
   "metadata": {},
   "outputs": [],
   "source": [
    "# Function to recommend products"
   ]
  },
  {
   "cell_type": "code",
   "execution_count": 33,
   "id": "39fb270e",
   "metadata": {},
   "outputs": [],
   "source": [
    "# defining the recommendations function to get recommendations by using the similar users' preferences\n",
    "def recommendations(user_index, num_of_products, interactions_matrix):\n",
    "    \n",
    "    #Saving similar users using the function similar_users defined above\n",
    "    most_similar_users = similar_users(user_index, interactions_matrix)[0]\n",
    "    \n",
    "    #Finding product IDs with which the user_id has interacted\n",
    "    prod_ids = set(list(interactions_matrix.columns[np.where(interactions_matrix.loc[user_index] > 0)]))\n",
    "    recommendations = []\n",
    "    \n",
    "    observed_interactions = prod_ids.copy()\n",
    "    for similar_user in most_similar_users:\n",
    "        if len(recommendations) < num_of_products:\n",
    "            \n",
    "            #Finding 'n' products which have been rated by similar users but not by the user_id\n",
    "            similar_user_prod_ids = set(list(interactions_matrix.columns[np.where(interactions_matrix.loc[similar_user] > 0)]))\n",
    "            recommendations.extend(list(similar_user_prod_ids.difference(observed_interactions)))\n",
    "            observed_interactions = observed_interactions.union(similar_user_prod_ids)\n",
    "        else:\n",
    "            break\n",
    "    \n",
    "    return recommendations[:num_of_products]"
   ]
  },
  {
   "cell_type": "code",
   "execution_count": 34,
   "id": "fbf3628b",
   "metadata": {},
   "outputs": [],
   "source": [
    "# Recommend 5 products to user index 3 based on similarity based collaborative filtering"
   ]
  },
  {
   "cell_type": "code",
   "execution_count": 35,
   "id": "c7df3be8",
   "metadata": {},
   "outputs": [
    {
     "data": {
      "text/plain": [
       "['B0051PGX2I', 'B005FAPYXS', 'B002V88HFE', 'B00114LG7U', 'B0007A1IRC']"
      ]
     },
     "execution_count": 35,
     "metadata": {},
     "output_type": "execute_result"
    }
   ],
   "source": [
    "recommendations(3,5,final_ratings_matrix)"
   ]
  },
  {
   "cell_type": "code",
   "execution_count": 36,
   "id": "2f9c5569",
   "metadata": {},
   "outputs": [],
   "source": [
    "# Recommend 5 products to user index 1521 based on similarity based collaborative filtering"
   ]
  },
  {
   "cell_type": "code",
   "execution_count": 37,
   "id": "a99b5f6d",
   "metadata": {},
   "outputs": [
    {
     "data": {
      "text/plain": [
       "['B009O7XGCY', 'B00A6UYCT4', 'B00A7PPLP2', 'B0076POAPS', 'B005LIDN14']"
      ]
     },
     "execution_count": 37,
     "metadata": {},
     "output_type": "execute_result"
    }
   ],
   "source": [
    "recommendations(1521,5,final_ratings_matrix)"
   ]
  },
  {
   "cell_type": "markdown",
   "id": "f5126b6b",
   "metadata": {},
   "source": [
    "# Model based Collaborative Filtering: Singular Value Decomposition\n"
   ]
  },
  {
   "cell_type": "code",
   "execution_count": 39,
   "id": "ce294101",
   "metadata": {},
   "outputs": [],
   "source": [
    "# We have seen above that the interaction matrix is highly sparse. SVD is best to apply on a large sparse matrix. Note that for sparse matrices, we can use the sparse.linalg.svds() function to perform the decomposition\n",
    "\n",
    "# Also, we will use k=50 latent features to predict rating of products\n",
    "# CSR matrix"
   ]
  },
  {
   "cell_type": "code",
   "execution_count": 40,
   "id": "99dce684",
   "metadata": {},
   "outputs": [],
   "source": [
    "from scipy.sparse import csr_matrix\n",
    "final_ratings_sparse = csr_matrix(final_ratings_matrix.values)"
   ]
  },
  {
   "cell_type": "code",
   "execution_count": 41,
   "id": "a69872f1",
   "metadata": {},
   "outputs": [],
   "source": [
    "# SVD"
   ]
  },
  {
   "cell_type": "code",
   "execution_count": 42,
   "id": "badf2123",
   "metadata": {},
   "outputs": [],
   "source": [
    "# Singular Value Decomposition\n",
    "U, s, Vt = svds(final_ratings_sparse, k = 50) # here k is the number of latent features\n",
    "\n",
    "# Construct diagonal array in SVD\n",
    "sigma = np.diag(s)"
   ]
  },
  {
   "cell_type": "code",
   "execution_count": 43,
   "id": "d8639a6b",
   "metadata": {},
   "outputs": [
    {
     "data": {
      "text/plain": [
       "(1540, 50)"
      ]
     },
     "execution_count": 43,
     "metadata": {},
     "output_type": "execute_result"
    }
   ],
   "source": [
    "U.shape"
   ]
  },
  {
   "cell_type": "code",
   "execution_count": 44,
   "id": "0f8cabf9",
   "metadata": {},
   "outputs": [
    {
     "data": {
      "text/plain": [
       "(50, 50)"
      ]
     },
     "execution_count": 44,
     "metadata": {},
     "output_type": "execute_result"
    }
   ],
   "source": [
    "sigma.shape"
   ]
  },
  {
   "cell_type": "code",
   "execution_count": 45,
   "id": "096b2617",
   "metadata": {},
   "outputs": [
    {
     "data": {
      "text/plain": [
       "(50, 48190)"
      ]
     },
     "execution_count": 45,
     "metadata": {},
     "output_type": "execute_result"
    }
   ],
   "source": [
    "\n",
    "Vt.shape"
   ]
  },
  {
   "cell_type": "code",
   "execution_count": 46,
   "id": "a5d17cde",
   "metadata": {},
   "outputs": [],
   "source": [
    "#Predicting ratings"
   ]
  },
  {
   "cell_type": "code",
   "execution_count": 47,
   "id": "30359ed1",
   "metadata": {},
   "outputs": [],
   "source": [
    "all_user_predicted_ratings = np.dot(np.dot(U, sigma), Vt) \n",
    "\n",
    "# Predicted ratings\n",
    "preds_df = pd.DataFrame(abs(all_user_predicted_ratings), columns = final_ratings_matrix.columns)\n",
    "preds_df.head()\n",
    "preds_matrix = csr_matrix(preds_df.values)"
   ]
  },
  {
   "cell_type": "code",
   "execution_count": 48,
   "id": "a90661ab",
   "metadata": {},
   "outputs": [],
   "source": [
    "# Function to recommend products"
   ]
  },
  {
   "cell_type": "code",
   "execution_count": 49,
   "id": "b79a9fe8",
   "metadata": {},
   "outputs": [],
   "source": [
    "import numpy as np\n",
    "\n",
    "def recommend_items(user_index, interactions_matrix, preds_matrix, num_recommendations):\n",
    "    \n",
    "    # Get the user's ratings from the actual and predicted interaction matrices\n",
    "    user_ratings = interactions_matrix[user_index,:].toarray().reshape(-1)\n",
    "    user_predictions = preds_matrix[user_index,:].toarray().reshape(-1)\n",
    "\n",
    "    #Creating a dataframe with actual and predicted ratings columns\n",
    "    temp = pd.DataFrame({'user_ratings': user_ratings, 'user_predictions': user_predictions})\n",
    "    temp['Recommended Products'] = np.arange(len(user_ratings))\n",
    "    temp = temp.set_index('Recommended Products')\n",
    "    \n",
    "    #Filtering the dataframe where actual ratings are 0 which implies that the user has not interacted with that product\n",
    "    temp = temp.loc[temp.user_ratings == 0]   \n",
    "    \n",
    "    #Recommending products with top predicted ratings\n",
    "    temp = temp.sort_values('user_predictions',ascending=False)#Sort the dataframe by user_predictions in descending order\n",
    "    print('\\nBelow are the recommended products for user(user_id = {}):\\n'.format(user_index))\n",
    "    print(temp['user_predictions'].head(num_recommendations))\n"
   ]
  },
  {
   "cell_type": "code",
   "execution_count": 50,
   "id": "ea87c32d",
   "metadata": {},
   "outputs": [],
   "source": [
    "# Recommending top 5 products to user id 121"
   ]
  },
  {
   "cell_type": "code",
   "execution_count": 51,
   "id": "5136f013",
   "metadata": {},
   "outputs": [
    {
     "name": "stdout",
     "output_type": "stream",
     "text": [
      "\n",
      "Below are the recommended products for user(user_id = 121):\n",
      "\n",
      "Recommended Products\n",
      "28761    2.414390\n",
      "39003    1.521306\n",
      "41420    1.309224\n",
      "40158    1.200111\n",
      "33819    1.126866\n",
      "Name: user_predictions, dtype: float64\n"
     ]
    }
   ],
   "source": [
    "\n",
    "#Enter 'user index' and 'num_recommendations' for the user\n",
    "#user_id = int(input(\"Enter User Id\"))\n",
    "#num_recommendations = int(input(\"Enter number of recommendation required\"))\n",
    "recommend_items(121,final_ratings_sparse,preds_matrix,5)"
   ]
  },
  {
   "cell_type": "code",
   "execution_count": 52,
   "id": "277d2594",
   "metadata": {},
   "outputs": [],
   "source": [
    "# Recommending top 10 products to user id 100"
   ]
  },
  {
   "cell_type": "code",
   "execution_count": 53,
   "id": "b597f943",
   "metadata": {},
   "outputs": [
    {
     "name": "stdout",
     "output_type": "stream",
     "text": [
      "\n",
      "Below are the recommended products for user(user_id = 100):\n",
      "\n",
      "Recommended Products\n",
      "11078    1.624746\n",
      "16159    1.132730\n",
      "10276    1.047888\n",
      "22210    0.955049\n",
      "18887    0.879705\n",
      "41618    0.854430\n",
      "45008    0.816153\n",
      "43419    0.803755\n",
      "28761    0.748799\n",
      "14791    0.748797\n",
      "Name: user_predictions, dtype: float64\n"
     ]
    }
   ],
   "source": [
    "#Enter 'user index' and 'num_recommendations' for the user\n",
    "#user_id = int(input(\"Enter User Id\"))\n",
    "#num_recommendations = int(input(\"Enter number of recommendation required\"))\n",
    "recommend_items(100,final_ratings_sparse,preds_matrix,10)"
   ]
  },
  {
   "cell_type": "markdown",
   "id": "01fbad94",
   "metadata": {},
   "source": [
    "# Model Evaluation"
   ]
  },
  {
   "cell_type": "code",
   "execution_count": 54,
   "id": "c6f4d735",
   "metadata": {},
   "outputs": [
    {
     "data": {
      "text/html": [
       "<div>\n",
       "<style scoped>\n",
       "    .dataframe tbody tr th:only-of-type {\n",
       "        vertical-align: middle;\n",
       "    }\n",
       "\n",
       "    .dataframe tbody tr th {\n",
       "        vertical-align: top;\n",
       "    }\n",
       "\n",
       "    .dataframe thead th {\n",
       "        text-align: right;\n",
       "    }\n",
       "</style>\n",
       "<table border=\"1\" class=\"dataframe\">\n",
       "  <thead>\n",
       "    <tr style=\"text-align: right;\">\n",
       "      <th>prod_id</th>\n",
       "      <th>0594451647</th>\n",
       "      <th>0594481813</th>\n",
       "      <th>0970407998</th>\n",
       "      <th>0972683275</th>\n",
       "      <th>1400501466</th>\n",
       "      <th>1400501520</th>\n",
       "      <th>1400501776</th>\n",
       "      <th>1400532620</th>\n",
       "      <th>1400532655</th>\n",
       "      <th>140053271X</th>\n",
       "      <th>...</th>\n",
       "      <th>B00L5YZCCG</th>\n",
       "      <th>B00L8I6SFY</th>\n",
       "      <th>B00L8QCVL6</th>\n",
       "      <th>B00LA6T0LS</th>\n",
       "      <th>B00LBZ1Z7K</th>\n",
       "      <th>B00LED02VY</th>\n",
       "      <th>B00LGN7Y3G</th>\n",
       "      <th>B00LGQ6HL8</th>\n",
       "      <th>B00LI4ZZO8</th>\n",
       "      <th>B00LKG1MC8</th>\n",
       "    </tr>\n",
       "    <tr>\n",
       "      <th>user_index</th>\n",
       "      <th></th>\n",
       "      <th></th>\n",
       "      <th></th>\n",
       "      <th></th>\n",
       "      <th></th>\n",
       "      <th></th>\n",
       "      <th></th>\n",
       "      <th></th>\n",
       "      <th></th>\n",
       "      <th></th>\n",
       "      <th></th>\n",
       "      <th></th>\n",
       "      <th></th>\n",
       "      <th></th>\n",
       "      <th></th>\n",
       "      <th></th>\n",
       "      <th></th>\n",
       "      <th></th>\n",
       "      <th></th>\n",
       "      <th></th>\n",
       "      <th></th>\n",
       "    </tr>\n",
       "  </thead>\n",
       "  <tbody>\n",
       "    <tr>\n",
       "      <th>0</th>\n",
       "      <td>0.0</td>\n",
       "      <td>0.0</td>\n",
       "      <td>0.0</td>\n",
       "      <td>0.0</td>\n",
       "      <td>0.0</td>\n",
       "      <td>0.0</td>\n",
       "      <td>0.0</td>\n",
       "      <td>0.0</td>\n",
       "      <td>0.0</td>\n",
       "      <td>0.0</td>\n",
       "      <td>...</td>\n",
       "      <td>0.0</td>\n",
       "      <td>0.0</td>\n",
       "      <td>0.0</td>\n",
       "      <td>0.0</td>\n",
       "      <td>0.0</td>\n",
       "      <td>0.0</td>\n",
       "      <td>0.0</td>\n",
       "      <td>0.0</td>\n",
       "      <td>0.0</td>\n",
       "      <td>0.0</td>\n",
       "    </tr>\n",
       "    <tr>\n",
       "      <th>1</th>\n",
       "      <td>0.0</td>\n",
       "      <td>0.0</td>\n",
       "      <td>0.0</td>\n",
       "      <td>0.0</td>\n",
       "      <td>0.0</td>\n",
       "      <td>0.0</td>\n",
       "      <td>0.0</td>\n",
       "      <td>0.0</td>\n",
       "      <td>0.0</td>\n",
       "      <td>0.0</td>\n",
       "      <td>...</td>\n",
       "      <td>0.0</td>\n",
       "      <td>0.0</td>\n",
       "      <td>0.0</td>\n",
       "      <td>0.0</td>\n",
       "      <td>0.0</td>\n",
       "      <td>0.0</td>\n",
       "      <td>0.0</td>\n",
       "      <td>0.0</td>\n",
       "      <td>0.0</td>\n",
       "      <td>0.0</td>\n",
       "    </tr>\n",
       "    <tr>\n",
       "      <th>2</th>\n",
       "      <td>0.0</td>\n",
       "      <td>0.0</td>\n",
       "      <td>0.0</td>\n",
       "      <td>0.0</td>\n",
       "      <td>0.0</td>\n",
       "      <td>0.0</td>\n",
       "      <td>0.0</td>\n",
       "      <td>0.0</td>\n",
       "      <td>0.0</td>\n",
       "      <td>0.0</td>\n",
       "      <td>...</td>\n",
       "      <td>0.0</td>\n",
       "      <td>0.0</td>\n",
       "      <td>0.0</td>\n",
       "      <td>0.0</td>\n",
       "      <td>0.0</td>\n",
       "      <td>0.0</td>\n",
       "      <td>0.0</td>\n",
       "      <td>0.0</td>\n",
       "      <td>0.0</td>\n",
       "      <td>0.0</td>\n",
       "    </tr>\n",
       "    <tr>\n",
       "      <th>3</th>\n",
       "      <td>0.0</td>\n",
       "      <td>0.0</td>\n",
       "      <td>0.0</td>\n",
       "      <td>0.0</td>\n",
       "      <td>0.0</td>\n",
       "      <td>0.0</td>\n",
       "      <td>0.0</td>\n",
       "      <td>0.0</td>\n",
       "      <td>0.0</td>\n",
       "      <td>0.0</td>\n",
       "      <td>...</td>\n",
       "      <td>0.0</td>\n",
       "      <td>0.0</td>\n",
       "      <td>0.0</td>\n",
       "      <td>0.0</td>\n",
       "      <td>0.0</td>\n",
       "      <td>0.0</td>\n",
       "      <td>0.0</td>\n",
       "      <td>0.0</td>\n",
       "      <td>0.0</td>\n",
       "      <td>0.0</td>\n",
       "    </tr>\n",
       "    <tr>\n",
       "      <th>4</th>\n",
       "      <td>0.0</td>\n",
       "      <td>0.0</td>\n",
       "      <td>0.0</td>\n",
       "      <td>0.0</td>\n",
       "      <td>0.0</td>\n",
       "      <td>0.0</td>\n",
       "      <td>0.0</td>\n",
       "      <td>0.0</td>\n",
       "      <td>0.0</td>\n",
       "      <td>0.0</td>\n",
       "      <td>...</td>\n",
       "      <td>0.0</td>\n",
       "      <td>0.0</td>\n",
       "      <td>0.0</td>\n",
       "      <td>0.0</td>\n",
       "      <td>0.0</td>\n",
       "      <td>0.0</td>\n",
       "      <td>0.0</td>\n",
       "      <td>0.0</td>\n",
       "      <td>0.0</td>\n",
       "      <td>0.0</td>\n",
       "    </tr>\n",
       "  </tbody>\n",
       "</table>\n",
       "<p>5 rows × 48190 columns</p>\n",
       "</div>"
      ],
      "text/plain": [
       "prod_id     0594451647  0594481813  0970407998  0972683275  1400501466  \\\n",
       "user_index                                                               \n",
       "0                  0.0         0.0         0.0         0.0         0.0   \n",
       "1                  0.0         0.0         0.0         0.0         0.0   \n",
       "2                  0.0         0.0         0.0         0.0         0.0   \n",
       "3                  0.0         0.0         0.0         0.0         0.0   \n",
       "4                  0.0         0.0         0.0         0.0         0.0   \n",
       "\n",
       "prod_id     1400501520  1400501776  1400532620  1400532655  140053271X  ...  \\\n",
       "user_index                                                              ...   \n",
       "0                  0.0         0.0         0.0         0.0         0.0  ...   \n",
       "1                  0.0         0.0         0.0         0.0         0.0  ...   \n",
       "2                  0.0         0.0         0.0         0.0         0.0  ...   \n",
       "3                  0.0         0.0         0.0         0.0         0.0  ...   \n",
       "4                  0.0         0.0         0.0         0.0         0.0  ...   \n",
       "\n",
       "prod_id     B00L5YZCCG  B00L8I6SFY  B00L8QCVL6  B00LA6T0LS  B00LBZ1Z7K  \\\n",
       "user_index                                                               \n",
       "0                  0.0         0.0         0.0         0.0         0.0   \n",
       "1                  0.0         0.0         0.0         0.0         0.0   \n",
       "2                  0.0         0.0         0.0         0.0         0.0   \n",
       "3                  0.0         0.0         0.0         0.0         0.0   \n",
       "4                  0.0         0.0         0.0         0.0         0.0   \n",
       "\n",
       "prod_id     B00LED02VY  B00LGN7Y3G  B00LGQ6HL8  B00LI4ZZO8  B00LKG1MC8  \n",
       "user_index                                                              \n",
       "0                  0.0         0.0         0.0         0.0         0.0  \n",
       "1                  0.0         0.0         0.0         0.0         0.0  \n",
       "2                  0.0         0.0         0.0         0.0         0.0  \n",
       "3                  0.0         0.0         0.0         0.0         0.0  \n",
       "4                  0.0         0.0         0.0         0.0         0.0  \n",
       "\n",
       "[5 rows x 48190 columns]"
      ]
     },
     "execution_count": 54,
     "metadata": {},
     "output_type": "execute_result"
    }
   ],
   "source": [
    "final_ratings_matrix['user_index'] = np.arange(0, final_ratings_matrix.shape[0])\n",
    "final_ratings_matrix.set_index(['user_index'], inplace=True)\n",
    "\n",
    "# Actual ratings given by users\n",
    "final_ratings_matrix.head()"
   ]
  },
  {
   "cell_type": "code",
   "execution_count": 55,
   "id": "377f7e96",
   "metadata": {},
   "outputs": [
    {
     "data": {
      "text/plain": [
       "prod_id\n",
       "0594451647    0.003247\n",
       "0594481813    0.001948\n",
       "0970407998    0.003247\n",
       "0972683275    0.012338\n",
       "1400501466    0.012987\n",
       "dtype: float64"
      ]
     },
     "execution_count": 55,
     "metadata": {},
     "output_type": "execute_result"
    }
   ],
   "source": [
    "average_rating = final_ratings_matrix.mean()\n",
    "average_rating.head()"
   ]
  },
  {
   "cell_type": "code",
   "execution_count": 56,
   "id": "34606a5f",
   "metadata": {},
   "outputs": [
    {
     "data": {
      "text/html": [
       "<div>\n",
       "<style scoped>\n",
       "    .dataframe tbody tr th:only-of-type {\n",
       "        vertical-align: middle;\n",
       "    }\n",
       "\n",
       "    .dataframe tbody tr th {\n",
       "        vertical-align: top;\n",
       "    }\n",
       "\n",
       "    .dataframe thead th {\n",
       "        text-align: right;\n",
       "    }\n",
       "</style>\n",
       "<table border=\"1\" class=\"dataframe\">\n",
       "  <thead>\n",
       "    <tr style=\"text-align: right;\">\n",
       "      <th>prod_id</th>\n",
       "      <th>0594451647</th>\n",
       "      <th>0594481813</th>\n",
       "      <th>0970407998</th>\n",
       "      <th>0972683275</th>\n",
       "      <th>1400501466</th>\n",
       "      <th>1400501520</th>\n",
       "      <th>1400501776</th>\n",
       "      <th>1400532620</th>\n",
       "      <th>1400532655</th>\n",
       "      <th>140053271X</th>\n",
       "      <th>...</th>\n",
       "      <th>B00L5YZCCG</th>\n",
       "      <th>B00L8I6SFY</th>\n",
       "      <th>B00L8QCVL6</th>\n",
       "      <th>B00LA6T0LS</th>\n",
       "      <th>B00LBZ1Z7K</th>\n",
       "      <th>B00LED02VY</th>\n",
       "      <th>B00LGN7Y3G</th>\n",
       "      <th>B00LGQ6HL8</th>\n",
       "      <th>B00LI4ZZO8</th>\n",
       "      <th>B00LKG1MC8</th>\n",
       "    </tr>\n",
       "  </thead>\n",
       "  <tbody>\n",
       "    <tr>\n",
       "      <th>0</th>\n",
       "      <td>0.005086</td>\n",
       "      <td>0.002178</td>\n",
       "      <td>0.003668</td>\n",
       "      <td>0.040843</td>\n",
       "      <td>0.009640</td>\n",
       "      <td>0.006808</td>\n",
       "      <td>0.020659</td>\n",
       "      <td>0.000649</td>\n",
       "      <td>0.020331</td>\n",
       "      <td>0.005633</td>\n",
       "      <td>...</td>\n",
       "      <td>0.000238</td>\n",
       "      <td>0.061477</td>\n",
       "      <td>0.001214</td>\n",
       "      <td>0.123433</td>\n",
       "      <td>0.028490</td>\n",
       "      <td>0.016109</td>\n",
       "      <td>0.002855</td>\n",
       "      <td>0.174568</td>\n",
       "      <td>0.011367</td>\n",
       "      <td>0.012997</td>\n",
       "    </tr>\n",
       "    <tr>\n",
       "      <th>1</th>\n",
       "      <td>0.002286</td>\n",
       "      <td>0.010898</td>\n",
       "      <td>0.000724</td>\n",
       "      <td>0.130259</td>\n",
       "      <td>0.007506</td>\n",
       "      <td>0.003350</td>\n",
       "      <td>0.063711</td>\n",
       "      <td>0.000674</td>\n",
       "      <td>0.016111</td>\n",
       "      <td>0.002433</td>\n",
       "      <td>...</td>\n",
       "      <td>0.000038</td>\n",
       "      <td>0.013766</td>\n",
       "      <td>0.001473</td>\n",
       "      <td>0.025588</td>\n",
       "      <td>0.042103</td>\n",
       "      <td>0.004251</td>\n",
       "      <td>0.002177</td>\n",
       "      <td>0.024362</td>\n",
       "      <td>0.014765</td>\n",
       "      <td>0.038570</td>\n",
       "    </tr>\n",
       "    <tr>\n",
       "      <th>2</th>\n",
       "      <td>0.001655</td>\n",
       "      <td>0.002675</td>\n",
       "      <td>0.007355</td>\n",
       "      <td>0.007264</td>\n",
       "      <td>0.005152</td>\n",
       "      <td>0.003986</td>\n",
       "      <td>0.003480</td>\n",
       "      <td>0.006961</td>\n",
       "      <td>0.006606</td>\n",
       "      <td>0.002719</td>\n",
       "      <td>...</td>\n",
       "      <td>0.001708</td>\n",
       "      <td>0.051040</td>\n",
       "      <td>0.000325</td>\n",
       "      <td>0.054867</td>\n",
       "      <td>0.017870</td>\n",
       "      <td>0.004996</td>\n",
       "      <td>0.002426</td>\n",
       "      <td>0.083928</td>\n",
       "      <td>0.112205</td>\n",
       "      <td>0.005964</td>\n",
       "    </tr>\n",
       "    <tr>\n",
       "      <th>3</th>\n",
       "      <td>0.001856</td>\n",
       "      <td>0.011019</td>\n",
       "      <td>0.005910</td>\n",
       "      <td>0.014134</td>\n",
       "      <td>0.000179</td>\n",
       "      <td>0.001877</td>\n",
       "      <td>0.005391</td>\n",
       "      <td>0.001709</td>\n",
       "      <td>0.004968</td>\n",
       "      <td>0.001402</td>\n",
       "      <td>...</td>\n",
       "      <td>0.000582</td>\n",
       "      <td>0.009326</td>\n",
       "      <td>0.000465</td>\n",
       "      <td>0.048315</td>\n",
       "      <td>0.023302</td>\n",
       "      <td>0.006790</td>\n",
       "      <td>0.003380</td>\n",
       "      <td>0.005460</td>\n",
       "      <td>0.015263</td>\n",
       "      <td>0.025996</td>\n",
       "    </tr>\n",
       "    <tr>\n",
       "      <th>4</th>\n",
       "      <td>0.001115</td>\n",
       "      <td>0.002670</td>\n",
       "      <td>0.011018</td>\n",
       "      <td>0.014434</td>\n",
       "      <td>0.010319</td>\n",
       "      <td>0.006002</td>\n",
       "      <td>0.017151</td>\n",
       "      <td>0.003726</td>\n",
       "      <td>0.001404</td>\n",
       "      <td>0.005645</td>\n",
       "      <td>...</td>\n",
       "      <td>0.000207</td>\n",
       "      <td>0.023761</td>\n",
       "      <td>0.000747</td>\n",
       "      <td>0.019347</td>\n",
       "      <td>0.012749</td>\n",
       "      <td>0.001026</td>\n",
       "      <td>0.001364</td>\n",
       "      <td>0.020580</td>\n",
       "      <td>0.011828</td>\n",
       "      <td>0.012770</td>\n",
       "    </tr>\n",
       "  </tbody>\n",
       "</table>\n",
       "<p>5 rows × 48190 columns</p>\n",
       "</div>"
      ],
      "text/plain": [
       "prod_id  0594451647  0594481813  0970407998  0972683275  1400501466  \\\n",
       "0          0.005086    0.002178    0.003668    0.040843    0.009640   \n",
       "1          0.002286    0.010898    0.000724    0.130259    0.007506   \n",
       "2          0.001655    0.002675    0.007355    0.007264    0.005152   \n",
       "3          0.001856    0.011019    0.005910    0.014134    0.000179   \n",
       "4          0.001115    0.002670    0.011018    0.014434    0.010319   \n",
       "\n",
       "prod_id  1400501520  1400501776  1400532620  1400532655  140053271X  ...  \\\n",
       "0          0.006808    0.020659    0.000649    0.020331    0.005633  ...   \n",
       "1          0.003350    0.063711    0.000674    0.016111    0.002433  ...   \n",
       "2          0.003986    0.003480    0.006961    0.006606    0.002719  ...   \n",
       "3          0.001877    0.005391    0.001709    0.004968    0.001402  ...   \n",
       "4          0.006002    0.017151    0.003726    0.001404    0.005645  ...   \n",
       "\n",
       "prod_id  B00L5YZCCG  B00L8I6SFY  B00L8QCVL6  B00LA6T0LS  B00LBZ1Z7K  \\\n",
       "0          0.000238    0.061477    0.001214    0.123433    0.028490   \n",
       "1          0.000038    0.013766    0.001473    0.025588    0.042103   \n",
       "2          0.001708    0.051040    0.000325    0.054867    0.017870   \n",
       "3          0.000582    0.009326    0.000465    0.048315    0.023302   \n",
       "4          0.000207    0.023761    0.000747    0.019347    0.012749   \n",
       "\n",
       "prod_id  B00LED02VY  B00LGN7Y3G  B00LGQ6HL8  B00LI4ZZO8  B00LKG1MC8  \n",
       "0          0.016109    0.002855    0.174568    0.011367    0.012997  \n",
       "1          0.004251    0.002177    0.024362    0.014765    0.038570  \n",
       "2          0.004996    0.002426    0.083928    0.112205    0.005964  \n",
       "3          0.006790    0.003380    0.005460    0.015263    0.025996  \n",
       "4          0.001026    0.001364    0.020580    0.011828    0.012770  \n",
       "\n",
       "[5 rows x 48190 columns]"
      ]
     },
     "execution_count": 56,
     "metadata": {},
     "output_type": "execute_result"
    }
   ],
   "source": [
    "preds_df.head()"
   ]
  },
  {
   "cell_type": "code",
   "execution_count": 57,
   "id": "522b1c42",
   "metadata": {},
   "outputs": [
    {
     "data": {
      "text/plain": [
       "prod_id\n",
       "0594451647    0.003360\n",
       "0594481813    0.005729\n",
       "0970407998    0.008566\n",
       "0972683275    0.035330\n",
       "1400501466    0.006966\n",
       "dtype: float64"
      ]
     },
     "execution_count": 57,
     "metadata": {},
     "output_type": "execute_result"
    }
   ],
   "source": [
    "avg_preds=preds_df.mean()\n",
    "avg_preds.head()"
   ]
  },
  {
   "cell_type": "code",
   "execution_count": 58,
   "id": "b60cec87",
   "metadata": {},
   "outputs": [
    {
     "data": {
      "text/html": [
       "<div>\n",
       "<style scoped>\n",
       "    .dataframe tbody tr th:only-of-type {\n",
       "        vertical-align: middle;\n",
       "    }\n",
       "\n",
       "    .dataframe tbody tr th {\n",
       "        vertical-align: top;\n",
       "    }\n",
       "\n",
       "    .dataframe thead th {\n",
       "        text-align: right;\n",
       "    }\n",
       "</style>\n",
       "<table border=\"1\" class=\"dataframe\">\n",
       "  <thead>\n",
       "    <tr style=\"text-align: right;\">\n",
       "      <th></th>\n",
       "      <th>Avg_actual_ratings</th>\n",
       "      <th>Avg_predicted_ratings</th>\n",
       "    </tr>\n",
       "    <tr>\n",
       "      <th>prod_id</th>\n",
       "      <th></th>\n",
       "      <th></th>\n",
       "    </tr>\n",
       "  </thead>\n",
       "  <tbody>\n",
       "    <tr>\n",
       "      <th>0594451647</th>\n",
       "      <td>0.003247</td>\n",
       "      <td>0.003360</td>\n",
       "    </tr>\n",
       "    <tr>\n",
       "      <th>0594481813</th>\n",
       "      <td>0.001948</td>\n",
       "      <td>0.005729</td>\n",
       "    </tr>\n",
       "    <tr>\n",
       "      <th>0970407998</th>\n",
       "      <td>0.003247</td>\n",
       "      <td>0.008566</td>\n",
       "    </tr>\n",
       "    <tr>\n",
       "      <th>0972683275</th>\n",
       "      <td>0.012338</td>\n",
       "      <td>0.035330</td>\n",
       "    </tr>\n",
       "    <tr>\n",
       "      <th>1400501466</th>\n",
       "      <td>0.012987</td>\n",
       "      <td>0.006966</td>\n",
       "    </tr>\n",
       "  </tbody>\n",
       "</table>\n",
       "</div>"
      ],
      "text/plain": [
       "            Avg_actual_ratings  Avg_predicted_ratings\n",
       "prod_id                                              \n",
       "0594451647            0.003247               0.003360\n",
       "0594481813            0.001948               0.005729\n",
       "0970407998            0.003247               0.008566\n",
       "0972683275            0.012338               0.035330\n",
       "1400501466            0.012987               0.006966"
      ]
     },
     "execution_count": 58,
     "metadata": {},
     "output_type": "execute_result"
    }
   ],
   "source": [
    "rmse_df = pd.concat([average_rating, avg_preds], axis=1)\n",
    "\n",
    "rmse_df.columns = ['Avg_actual_ratings', 'Avg_predicted_ratings']\n",
    "\n",
    "rmse_df.head()"
   ]
  },
  {
   "cell_type": "code",
   "execution_count": 59,
   "id": "0e511204",
   "metadata": {},
   "outputs": [
    {
     "name": "stdout",
     "output_type": "stream",
     "text": [
      "RMSE SVD Model = 0.013679389779858019 \n",
      "\n"
     ]
    }
   ],
   "source": [
    "RMSE=mean_squared_error(rmse_df['Avg_actual_ratings'], rmse_df['Avg_predicted_ratings'], squared=False)\n",
    "print(f'RMSE SVD Model = {RMSE} \\n')\n",
    "     "
   ]
  },
  {
   "cell_type": "code",
   "execution_count": 73,
   "id": "9d8b4ecb",
   "metadata": {},
   "outputs": [],
   "source": [
    "# For a business without any user-item purchase history, a search engine based recommendation system can be designed for users. The product recommendations can be based on textual clustering analysis given in product description."
   ]
  },
  {
   "cell_type": "markdown",
   "id": "6b82a98e",
   "metadata": {},
   "source": [
    "# Item to item based recommendation system based on product description"
   ]
  },
  {
   "cell_type": "code",
   "execution_count": 60,
   "id": "e5a6571d",
   "metadata": {},
   "outputs": [],
   "source": [
    "# Importing libraries\n",
    "from sklearn.feature_extraction.text import TfidfVectorizer, CountVectorizer\n",
    "from sklearn.neighbors import NearestNeighbors\n",
    "from sklearn.cluster import KMeans\n",
    "from sklearn.metrics import adjusted_rand_score"
   ]
  },
  {
   "cell_type": "code",
   "execution_count": 61,
   "id": "02bd49a5",
   "metadata": {},
   "outputs": [
    {
     "data": {
      "text/plain": [
       "(124428, 2)"
      ]
     },
     "execution_count": 61,
     "metadata": {},
     "output_type": "execute_result"
    }
   ],
   "source": [
    "product_descriptions = pd.read_csv('D:/dataset/product_descriptions.csv')\n",
    "product_descriptions.shape"
   ]
  },
  {
   "cell_type": "code",
   "execution_count": 62,
   "id": "333e2990",
   "metadata": {},
   "outputs": [],
   "source": [
    "# Checking for missing values"
   ]
  },
  {
   "cell_type": "code",
   "execution_count": 63,
   "id": "0969e8c5",
   "metadata": {},
   "outputs": [
    {
     "data": {
      "text/html": [
       "<div>\n",
       "<style scoped>\n",
       "    .dataframe tbody tr th:only-of-type {\n",
       "        vertical-align: middle;\n",
       "    }\n",
       "\n",
       "    .dataframe tbody tr th {\n",
       "        vertical-align: top;\n",
       "    }\n",
       "\n",
       "    .dataframe thead th {\n",
       "        text-align: right;\n",
       "    }\n",
       "</style>\n",
       "<table border=\"1\" class=\"dataframe\">\n",
       "  <thead>\n",
       "    <tr style=\"text-align: right;\">\n",
       "      <th></th>\n",
       "      <th>product_uid</th>\n",
       "      <th>product_description</th>\n",
       "    </tr>\n",
       "  </thead>\n",
       "  <tbody>\n",
       "    <tr>\n",
       "      <th>0</th>\n",
       "      <td>100001</td>\n",
       "      <td>Not only do angles make joints stronger, they ...</td>\n",
       "    </tr>\n",
       "    <tr>\n",
       "      <th>1</th>\n",
       "      <td>100002</td>\n",
       "      <td>BEHR Premium Textured DECKOVER is an innovativ...</td>\n",
       "    </tr>\n",
       "    <tr>\n",
       "      <th>2</th>\n",
       "      <td>100003</td>\n",
       "      <td>Classic architecture meets contemporary design...</td>\n",
       "    </tr>\n",
       "    <tr>\n",
       "      <th>3</th>\n",
       "      <td>100004</td>\n",
       "      <td>The Grape Solar 265-Watt Polycrystalline PV So...</td>\n",
       "    </tr>\n",
       "    <tr>\n",
       "      <th>4</th>\n",
       "      <td>100005</td>\n",
       "      <td>Update your bathroom with the Delta Vero Singl...</td>\n",
       "    </tr>\n",
       "  </tbody>\n",
       "</table>\n",
       "</div>"
      ],
      "text/plain": [
       "   product_uid                                product_description\n",
       "0       100001  Not only do angles make joints stronger, they ...\n",
       "1       100002  BEHR Premium Textured DECKOVER is an innovativ...\n",
       "2       100003  Classic architecture meets contemporary design...\n",
       "3       100004  The Grape Solar 265-Watt Polycrystalline PV So...\n",
       "4       100005  Update your bathroom with the Delta Vero Singl..."
      ]
     },
     "execution_count": 63,
     "metadata": {},
     "output_type": "execute_result"
    }
   ],
   "source": [
    "# Missing values\n",
    "\n",
    "product_descriptions = product_descriptions.dropna()\n",
    "product_descriptions.shape\n",
    "product_descriptions.head()"
   ]
  },
  {
   "cell_type": "code",
   "execution_count": 64,
   "id": "0b31de6a",
   "metadata": {},
   "outputs": [
    {
     "data": {
      "text/plain": [
       "0    Not only do angles make joints stronger, they ...\n",
       "1    BEHR Premium Textured DECKOVER is an innovativ...\n",
       "2    Classic architecture meets contemporary design...\n",
       "3    The Grape Solar 265-Watt Polycrystalline PV So...\n",
       "4    Update your bathroom with the Delta Vero Singl...\n",
       "5    Achieving delicious results is almost effortle...\n",
       "6    The Quantum Adjustable 2-Light LED Black Emerg...\n",
       "7    The Teks #10 x 1-1/2 in. Zinc-Plated Steel Was...\n",
       "8    Get the House of Fara 3/4 in. x 3 in. x 8 ft. ...\n",
       "9    Valley View Industries Metal Stakes (4-Pack) a...\n",
       "Name: product_description, dtype: object"
      ]
     },
     "execution_count": 64,
     "metadata": {},
     "output_type": "execute_result"
    }
   ],
   "source": [
    "product_descriptions1 = product_descriptions.head(500)\n",
    "# product_descriptions1.iloc[:,1]\n",
    "\n",
    "product_descriptions1[\"product_description\"].head(10)"
   ]
  },
  {
   "cell_type": "code",
   "execution_count": 65,
   "id": "6a0b65e2",
   "metadata": {},
   "outputs": [],
   "source": [
    "# Feature extraction from product descriptions\n",
    "\n",
    "# Converting the text in product description into numerical data for analysis"
   ]
  },
  {
   "cell_type": "code",
   "execution_count": 66,
   "id": "d3434eb7",
   "metadata": {},
   "outputs": [
    {
     "data": {
      "text/plain": [
       "<500x8932 sparse matrix of type '<class 'numpy.float64'>'\n",
       "\twith 34817 stored elements in Compressed Sparse Row format>"
      ]
     },
     "execution_count": 66,
     "metadata": {},
     "output_type": "execute_result"
    }
   ],
   "source": [
    "vectorizer = TfidfVectorizer(stop_words='english')\n",
    "X1 = vectorizer.fit_transform(product_descriptions1[\"product_description\"])\n",
    "X1"
   ]
  },
  {
   "cell_type": "code",
   "execution_count": 67,
   "id": "169c7e88",
   "metadata": {},
   "outputs": [],
   "source": [
    "# Visualizing product clusters in subset of data"
   ]
  },
  {
   "cell_type": "code",
   "execution_count": 68,
   "id": "006aa07e",
   "metadata": {},
   "outputs": [
    {
     "data": {
      "image/png": "[encoded data removed]",
      "text/plain": [
       "<Figure size 640x480 with 1 Axes>"
      ]
     },
     "metadata": {},
     "output_type": "display_data"
    }
   ],
   "source": [
    "# Fitting K-Means to the dataset\n",
    "\n",
    "X=X1\n",
    "\n",
    "kmeans = KMeans(n_clusters = 10, init = 'k-means++')\n",
    "y_kmeans = kmeans.fit_predict(X)\n",
    "plt.plot(y_kmeans, \".\")\n",
    "plt.show()"
   ]
  },
  {
   "cell_type": "raw",
   "id": "e7332e7f",
   "metadata": {},
   "source": [
    "# Top words in each cluster based on product description"
   ]
  },
  {
   "cell_type": "code",
   "execution_count": 69,
   "id": "8b3879fd",
   "metadata": {},
   "outputs": [
    {
     "name": "stdout",
     "output_type": "stream",
     "text": [
      "Top terms per cluster:\n",
      "Cluster 0:\n",
      " ft\n",
      " moisture\n",
      " steam\n",
      " roof\n",
      " easy\n",
      " protects\n",
      " surface\n",
      " sq\n",
      " use\n",
      " california\n",
      "Cluster 1:\n",
      " wall\n",
      " piece\n",
      " use\n",
      " easy\n",
      " finish\n",
      " design\n",
      " commercial\n",
      " tile\n",
      " indoor\n",
      " home\n",
      "Cluster 2:\n",
      " steel\n",
      " 20\n",
      " metal\n",
      " toilet\n",
      " sink\n",
      " bowl\n",
      " gauge\n",
      " stainless\n",
      " pre\n",
      " drill\n",
      "Cluster 3:\n",
      " water\n",
      " easy\n",
      " heater\n",
      " gas\n",
      " use\n",
      " valve\n",
      " tank\n",
      " provides\n",
      " year\n",
      " gal\n",
      "Cluster 4:\n",
      " concrete\n",
      " stake\n",
      " used\n",
      " grip\n",
      " pliers\n",
      " help\n",
      " head\n",
      " sprinkler\n",
      " cement\n",
      " stakes\n",
      "Cluster 5:\n",
      " frame\n",
      " patio\n",
      " collection\n",
      " outdoor\n",
      " dining\n",
      " cushions\n",
      " wicker\n",
      " fabric\n",
      " chairs\n",
      " canopy\n",
      "Cluster 6:\n",
      " air\n",
      " power\n",
      " cooling\n",
      " window\n",
      " control\n",
      " ft\n",
      " insulation\n",
      " room\n",
      " unit\n",
      " plan\n",
      "Cluster 7:\n",
      " light\n",
      " watt\n",
      " nickel\n",
      " bulb\n",
      " led\n",
      " cabinet\n",
      " bulbs\n",
      " fan\n",
      " fixture\n",
      " white\n",
      "Cluster 8:\n",
      " tool\n",
      " cutting\n",
      " storage\n",
      " easy\n",
      " saw\n",
      " lbs\n",
      " duty\n",
      " features\n",
      " use\n",
      " allows\n",
      "Cluster 9:\n",
      " wood\n",
      " door\n",
      " paint\n",
      " natural\n",
      " proposition\n",
      " nbsp\n",
      " painted\n",
      " residents\n",
      " california\n",
      " 65\n"
     ]
    }
   ],
   "source": [
    "# # Optimal clusters is \n",
    "\n",
    "true_k = 10\n",
    "\n",
    "model = KMeans(n_clusters=true_k, init='k-means++', max_iter=100, n_init=1)\n",
    "model.fit(X1)\n",
    "\n",
    "print(\"Top terms per cluster:\")\n",
    "order_centroids = model.cluster_centers_.argsort()[:, ::-1]\n",
    "terms = vectorizer.get_feature_names()\n",
    "for i in range(true_k):\n",
    "    print(\"Cluster %d:\" % i),\n",
    "    for ind in order_centroids[i, :10]:\n",
    "        print(' %s' % terms[ind]),\n",
    "    print"
   ]
  },
  {
   "cell_type": "code",
   "execution_count": 70,
   "id": "12f4f4b3",
   "metadata": {},
   "outputs": [
    {
     "name": "stdout",
     "output_type": "stream",
     "text": [
      "Enter User Id : 121\n",
      "Enter Recommendation require : 10\n"
     ]
    },
    {
     "data": {
      "text/plain": [
       "['B00G4UQ6U8',\n",
       " 'B00A7PPLP2',\n",
       " 'B009AR2MF0',\n",
       " 'B005SEIO4M',\n",
       " 'B00752R89C',\n",
       " 'B008X9Z528',\n",
       " 'B00F4MEGYU',\n",
       " 'B003ESQ77A',\n",
       " 'B000LRMS66',\n",
       " 'B003XM73P2']"
      ]
     },
     "execution_count": 70,
     "metadata": {},
     "output_type": "execute_result"
    }
   ],
   "source": [
    "# Recommend num products to user index based on similarity based collaborative filtering\n",
    "user_id = int(input(\"Enter User Id : \"))\n",
    "recommendationRequired = int(input(\"Enter Recommendation require : \"))\n",
    "recommendations(user_id,recommendationRequired,final_ratings_matrix)"
   ]
  },
  {
   "cell_type": "code",
   "execution_count": 87,
   "id": "8e033e3d",
   "metadata": {},
   "outputs": [
    {
     "name": "stdout",
     "output_type": "stream",
     "text": [
      "Enter User Id1254\n",
      "Enter number of recommendation required10\n",
      "\n",
      "Below are the recommended products for user(user_id = 1254):\n",
      "\n",
      "Recommended Products\n",
      "38250    0.625684\n",
      "15538    0.516647\n",
      "11078    0.508910\n",
      "24827    0.485269\n",
      "18891    0.474269\n",
      "45450    0.397560\n",
      "33727    0.341115\n",
      "16481    0.339733\n",
      "41618    0.324195\n",
      "22602    0.323926\n",
      "Name: user_predictions, dtype: float64\n"
     ]
    }
   ],
   "source": [
    "#Enter 'user index' and 'num_recommendations' for the user\n",
    "user_id = int(input(\"Enter User Id\"))\n",
    "num_recommendations = int(input(\"Enter number of recommendation required\"))\n",
    "recommend_items(user_id,final_ratings_sparse,preds_matrix,num_recommendations)"
   ]
  },
  {
   "cell_type": "code",
   "execution_count": 71,
   "id": "96560ea8",
   "metadata": {},
   "outputs": [
    {
     "name": "stdout",
     "output_type": "stream",
     "text": [
      "Enter item you searched for : paint\n",
      "Cluster ID: [9]\n"
     ]
    }
   ],
   "source": [
    "# Predicting clusters based on key search words\n",
    "# cutting tool\n",
    "word = input(\"Enter item you searched for : \")\n",
    "Y = vectorizer.transform([word])\n",
    "prediction = model.predict(Y)\n",
    "print(\"Cluster ID:\", prediction)"
   ]
  }
 ],
 "metadata": {
  "kernelspec": {
   "display_name": "Python 3 (ipykernel)",
   "language": "python",
   "name": "python3"
  },
  "language_info": {
   "codemirror_mode": {
    "name": "ipython",
    "version": 3
   },
   "file_extension": ".py",
   "mimetype": "text/x-python",
   "name": "python",
   "nbconvert_exporter": "python",
   "pygments_lexer": "ipython3",
   "version": "3.10.7"
  }
 },
 "nbformat": 4,
 "nbformat_minor": 5
}
